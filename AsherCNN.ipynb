{
 "cells": [
  {
   "cell_type": "code",
   "execution_count": 25,
   "metadata": {},
   "outputs": [],
   "source": [
    "import os\n",
    "from PIL import Image\n",
    "from glob import glob\n",
    "        \n",
    "for dirname, _, filenames in os.walk('/imagedata'):\n",
    "    for filename in filenames:\n",
    "        print(os.path.join(dirname, filename))\n"
   ]
  },
  {
   "cell_type": "code",
   "execution_count": 26,
   "metadata": {},
   "outputs": [
    {
     "data": {
      "image/png": "[encoded data removed]",
      "text/plain": [
       "<PIL.PngImagePlugin.PngImageFile image mode=RGB size=50x50 at 0x7FF39AAC3820>"
      ]
     },
     "execution_count": 26,
     "metadata": {},
     "output_type": "execute_result"
    }
   ],
   "source": [
    "from PIL import Image\n",
    "\n",
    "Image.open('imagedata/10253/0/10253_idx5_x1001_y1001_class0.png')"
   ]
  },
  {
   "cell_type": "code",
   "execution_count": 30,
   "metadata": {},
   "outputs": [],
   "source": [
    "# get all of the file names\n",
    "# use this to get cancer and benign images \n",
    "# then train test split\n",
    "# Then transform to image array\n",
    "# Then TRAIN!!!!\n",
    "import keras\n",
    "from tensorflow.keras.utils import load_img\n",
    "import numpy as np\n",
    "import tensorflow as tf\n",
    "\n",
    "from tensorflow.keras import datasets, layers, models\n",
    "import matplotlib.pyplot as plt\n",
    "\n",
    "nonCancer = glob('imagedata/*/0/*.png')\n",
    "cancerous = glob('imagedata/*/1/*.png')\n",
    "\n",
    "training = []\n",
    "labels = []\n",
    "# Turn file names into images to train the net\n",
    "\n",
    "for i in range(1, 1000):\n",
    "    imageBenign = load_img(nonCancer[i])\n",
    "    imageCancer = load_img(cancerous[i])\n",
    "    imageBenign = imageBenign.resize([30, 30])\n",
    "    imageCancer = imageCancer.resize([30, 30])\n",
    "    benignArray = tf.keras.utils.img_to_array(imageBenign)\n",
    "    cancerArray = tf.keras.utils.img_to_array(imageCancer)\n",
    "    training.append(benignArray)\n",
    "    labels.append(0)\n",
    "    training.append(cancerArray)\n",
    "    labels.append(1)\n",
    "    \n"
   ]
  },
  {
   "cell_type": "code",
   "execution_count": 31,
   "metadata": {},
   "outputs": [
    {
     "name": "stdout",
     "output_type": "stream",
     "text": [
      "Epoch 1/10\n",
      "63/63 [==============================] - 1s 12ms/step - loss: 2.4545 - accuracy: 0.6071\n",
      "Epoch 2/10\n",
      "63/63 [==============================] - 1s 12ms/step - loss: 0.6234 - accuracy: 0.7047\n",
      "Epoch 3/10\n",
      "63/63 [==============================] - 1s 12ms/step - loss: 0.5111 - accuracy: 0.7693\n",
      "Epoch 4/10\n",
      "63/63 [==============================] - 1s 12ms/step - loss: 0.4902 - accuracy: 0.7763\n",
      "Epoch 5/10\n",
      "63/63 [==============================] - 1s 12ms/step - loss: 0.4779 - accuracy: 0.7898\n",
      "Epoch 6/10\n",
      "63/63 [==============================] - 1s 12ms/step - loss: 0.4199 - accuracy: 0.8188\n",
      "Epoch 7/10\n",
      "63/63 [==============================] - 1s 12ms/step - loss: 0.3802 - accuracy: 0.8388\n",
      "Epoch 8/10\n",
      "63/63 [==============================] - 1s 12ms/step - loss: 0.4551 - accuracy: 0.7948\n",
      "Epoch 9/10\n",
      "63/63 [==============================] - 1s 12ms/step - loss: 0.4601 - accuracy: 0.7988\n",
      "Epoch 10/10\n",
      "63/63 [==============================] - 1s 12ms/step - loss: 0.4710 - accuracy: 0.7923\n"
     ]
    },
    {
     "ename": "KeyError",
     "evalue": "'val_accuracy'",
     "output_type": "error",
     "traceback": [
      "\u001b[0;31m---------------------------------------------------------------------------\u001b[0m",
      "\u001b[0;31mKeyError\u001b[0m                                  Traceback (most recent call last)",
      "\u001b[0;32m<ipython-input-31-81347399498b>\u001b[0m in \u001b[0;36m<module>\u001b[0;34m\u001b[0m\n\u001b[1;32m     19\u001b[0m \u001b[0;34m\u001b[0m\u001b[0m\n\u001b[1;32m     20\u001b[0m \u001b[0mplt\u001b[0m\u001b[0;34m.\u001b[0m\u001b[0mplot\u001b[0m\u001b[0;34m(\u001b[0m\u001b[0mhistory\u001b[0m\u001b[0;34m.\u001b[0m\u001b[0mhistory\u001b[0m\u001b[0;34m[\u001b[0m\u001b[0;34m'accuracy'\u001b[0m\u001b[0;34m]\u001b[0m\u001b[0;34m,\u001b[0m \u001b[0mlabel\u001b[0m\u001b[0;34m=\u001b[0m\u001b[0;34m'accuracy'\u001b[0m\u001b[0;34m)\u001b[0m\u001b[0;34m\u001b[0m\u001b[0;34m\u001b[0m\u001b[0m\n\u001b[0;32m---> 21\u001b[0;31m \u001b[0mplt\u001b[0m\u001b[0;34m.\u001b[0m\u001b[0mplot\u001b[0m\u001b[0;34m(\u001b[0m\u001b[0mhistory\u001b[0m\u001b[0;34m.\u001b[0m\u001b[0mhistory\u001b[0m\u001b[0;34m[\u001b[0m\u001b[0;34m'val_accuracy'\u001b[0m\u001b[0;34m]\u001b[0m\u001b[0;34m,\u001b[0m \u001b[0mlabel\u001b[0m \u001b[0;34m=\u001b[0m \u001b[0;34m'val_accuracy'\u001b[0m\u001b[0;34m)\u001b[0m\u001b[0;34m\u001b[0m\u001b[0;34m\u001b[0m\u001b[0m\n\u001b[0m\u001b[1;32m     22\u001b[0m \u001b[0mplt\u001b[0m\u001b[0;34m.\u001b[0m\u001b[0mxlabel\u001b[0m\u001b[0;34m(\u001b[0m\u001b[0;34m'Epoch'\u001b[0m\u001b[0;34m)\u001b[0m\u001b[0;34m\u001b[0m\u001b[0;34m\u001b[0m\u001b[0m\n\u001b[1;32m     23\u001b[0m \u001b[0mplt\u001b[0m\u001b[0;34m.\u001b[0m\u001b[0mylabel\u001b[0m\u001b[0;34m(\u001b[0m\u001b[0;34m'Accuracy'\u001b[0m\u001b[0;34m)\u001b[0m\u001b[0;34m\u001b[0m\u001b[0;34m\u001b[0m\u001b[0m\n",
      "\u001b[0;31mKeyError\u001b[0m: 'val_accuracy'"
     ]
    },
    {
     "data": {
      "image/png": "[encoded data removed]",
      "text/plain": [
       "<Figure size 432x288 with 1 Axes>"
      ]
     },
     "metadata": {
      "needs_background": "light"
     },
     "output_type": "display_data"
    }
   ],
   "source": [
    "# define the model according to keras tutorial \n",
    "# https://www.tensorflow.org/tutorials/images/cnn#create_the_convolutional_base\n",
    "model = models.Sequential()\n",
    "model.add(layers.Conv2D(32, (3, 3), activation='relu', input_shape=(30, 30, 3)))\n",
    "model.add(layers.MaxPooling2D((2, 2)))\n",
    "model.add(layers.Conv2D(64, (3, 3), activation='relu'))\n",
    "model.add(layers.MaxPooling2D((2, 2)))\n",
    "model.add(layers.Conv2D(64, (3, 3), activation='relu'))\n",
    "\n",
    "model.add(layers.Flatten())\n",
    "model.add(layers.Dense(64, activation='relu'))\n",
    "model.add(layers.Dense(10))\n",
    "\n",
    "model.compile(optimizer='adam',\n",
    "              loss=tf.keras.losses.SparseCategoricalCrossentropy(from_logits=True),\n",
    "              metrics=['accuracy'])\n",
    "\n",
    "history = model.fit(np.array(training), np.array(labels), epochs=10)\n",
    "\n",
    "plt.plot(history.history['accuracy'], label='accuracy')\n",
    "plt.plot(history.history['val_accuracy'], label = 'val_accuracy')\n",
    "plt.xlabel('Epoch')\n",
    "plt.ylabel('Accuracy')\n",
    "plt.ylim([0.5, 1])\n",
    "plt.legend(loc='lower right')\n",
    "\n",
    "# test_loss, test_acc = model.evaluate(test_images,  test_labels, verbose=2)"
   ]
  },
  {
   "cell_type": "code",
   "execution_count": 38,
   "metadata": {},
   "outputs": [],
   "source": [
    "# Clean Script\n",
    "from glob import glob\n",
    "import tensorflow as tf\n",
    "from tensorflow.keras.utils import load_img\n",
    "\n",
    "# Collect paths to images based on label\n",
    "nonCancerPaths = glob('imagedata/*/0/*.png')\n",
    "cancerousPaths = glob('imagedata/*/1/*.png')\n",
    "\n",
    "# Turn filepaths into image arrays to train a model\n",
    "def paths_to_image(paths, label):\n",
    "    images = []\n",
    "    labels = []\n",
    "    for path in paths:\n",
    "        image = load_img(path)\n",
    "        image = image.resize([50, 50])\n",
    "        imgArray = tf.keras.utils.img_to_array(image)\n",
    "        images.append(imgArray)\n",
    "        labels.append(label)\n",
    "    return (images, labels)\n",
    "nonCancerImages = paths_to_image(nonCancerPaths, 0)\n",
    "cancerImages = paths_to_image(cancerousPaths, 1)"
   ]
  },
  {
   "cell_type": "code",
   "execution_count": 39,
   "metadata": {},
   "outputs": [],
   "source": [
    "# Train Test Split train = (images, labels)\n",
    "from sklearn.model_selection import train_test_split\n",
    "allImages = nonCancerImages[0] + cancerImages[0]\n",
    "allLabels = nonCancerImages[1] + cancerImages[1]\n",
    "\n",
    "x_train, x_test, y_train, y_test = train_test_split(allImages, allLabels, test_size=.5, stratify= allLabels, random_state = 10)\n",
    "\n"
   ]
  },
  {
   "cell_type": "code",
   "execution_count": 41,
   "metadata": {},
   "outputs": [
    {
     "name": "stdout",
     "output_type": "stream",
     "text": [
      "(138762, 50, 50, 3)\n",
      "(138762,)\n",
      "Epoch 1/10\n",
      "4337/4337 [==============================] - 235s 54ms/step - loss: 0.4937 - accuracy: 0.8155 - val_loss: 0.4271 - val_accuracy: 0.8149\n",
      "Epoch 2/10\n",
      "4337/4337 [==============================] - 223s 51ms/step - loss: 0.3860 - accuracy: 0.8349 - val_loss: 0.3863 - val_accuracy: 0.8302\n",
      "Epoch 3/10\n",
      "4337/4337 [==============================] - 220s 51ms/step - loss: 0.3636 - accuracy: 0.8460 - val_loss: 0.3474 - val_accuracy: 0.8544\n",
      "Epoch 4/10\n",
      "4337/4337 [==============================] - 215s 50ms/step - loss: 0.3519 - accuracy: 0.8509 - val_loss: 0.3439 - val_accuracy: 0.8544\n",
      "Epoch 5/10\n",
      "4337/4337 [==============================] - 213s 49ms/step - loss: 0.3484 - accuracy: 0.8525 - val_loss: 0.3330 - val_accuracy: 0.8592\n",
      "Epoch 6/10\n",
      "4337/4337 [==============================] - 219s 50ms/step - loss: 0.3436 - accuracy: 0.8547 - val_loss: 0.3560 - val_accuracy: 0.8544\n",
      "Epoch 7/10\n",
      "4337/4337 [==============================] - 224s 52ms/step - loss: 0.3394 - accuracy: 0.8569 - val_loss: 0.3794 - val_accuracy: 0.8402\n",
      "Epoch 8/10\n",
      "4337/4337 [==============================] - 214s 49ms/step - loss: 0.3396 - accuracy: 0.8584 - val_loss: 0.3335 - val_accuracy: 0.8578\n",
      "Epoch 9/10\n",
      "4337/4337 [==============================] - 219s 50ms/step - loss: 0.3385 - accuracy: 0.8576 - val_loss: 0.3341 - val_accuracy: 0.8584\n",
      "Epoch 10/10\n",
      "4337/4337 [==============================] - 206s 48ms/step - loss: 0.3339 - accuracy: 0.8593 - val_loss: 0.3354 - val_accuracy: 0.8597\n"
     ]
    },
    {
     "data": {
      "text/plain": [
       "<matplotlib.legend.Legend at 0x7fef6b174bb0>"
      ]
     },
     "execution_count": 41,
     "metadata": {},
     "output_type": "execute_result"
    },
    {
     "data": {
      "image/png": "[encoded data removed]",
      "text/plain": [
       "<Figure size 432x288 with 1 Axes>"
      ]
     },
     "metadata": {
      "needs_background": "light"
     },
     "output_type": "display_data"
    }
   ],
   "source": [
    "# define the model according to keras tutorial \n",
    "# https://www.tensorflow.org/tutorials/images/cnn#create_the_convolutional_base\n",
    "from tensorflow.keras import datasets, layers, models\n",
    "import matplotlib.pyplot as plt\n",
    "import numpy as np\n",
    "\n",
    "\n",
    "print(np.array(x_train).shape)\n",
    "print(np.array(y_train).shape)\n",
    "model = models.Sequential()\n",
    "model.add(layers.Conv2D(32, (3, 3), activation='relu', input_shape=(50, 50, 3)))\n",
    "model.add(layers.MaxPooling2D((2, 2)))\n",
    "model.add(layers.Conv2D(64, (3, 3), activation='relu'))\n",
    "model.add(layers.MaxPooling2D((2, 2)))\n",
    "model.add(layers.Conv2D(64, (3, 3), activation='relu'))\n",
    "\n",
    "model.add(layers.Flatten())\n",
    "model.add(layers.Dense(64, activation='relu'))\n",
    "model.add(layers.Dense(10))\n",
    "\n",
    "model.compile(optimizer='adam',\n",
    "              loss=tf.keras.losses.SparseCategoricalCrossentropy(from_logits=True),\n",
    "              metrics=['accuracy'])\n",
    "\n",
    "history = model.fit(np.array(x_train), np.array(y_train), epochs=10, validation_data=(np.array(x_test), np.array(y_test)))\n",
    "\n",
    "plt.plot(history.history['accuracy'], label='accuracy')\n",
    "plt.plot(history.history['val_accuracy'], label = 'val_accuracy')\n",
    "plt.xlabel('Epoch')\n",
    "plt.ylabel('Accuracy')\n",
    "plt.ylim([0.5, 1])\n",
    "plt.legend(loc='lower right')"
   ]
  },
  {
   "cell_type": "code",
   "execution_count": 46,
   "metadata": {},
   "outputs": [
    {
     "name": "stdout",
     "output_type": "stream",
     "text": [
      "4337/4337 - 36s - loss: 0.3354 - accuracy: 0.8597 - 36s/epoch - 8ms/step\n"
     ]
    },
    {
     "data": {
      "image/png": "[encoded data removed]",
      "text/plain": [
       "<Figure size 432x288 with 1 Axes>"
      ]
     },
     "metadata": {
      "needs_background": "light"
     },
     "output_type": "display_data"
    }
   ],
   "source": [
    "plt.plot(history.history['accuracy'], label='accuracy')\n",
    "plt.plot(history.history['val_accuracy'], label = 'val_accuracy')\n",
    "plt.xlabel('Epoch')\n",
    "plt.ylabel('Accuracy')\n",
    "plt.ylim([0.5, 1])\n",
    "plt.legend(loc='lower right')\n",
    "\n",
    "test_loss, test_acc = model.evaluate(np.array(x_test),  np.array(y_test), verbose=2)"
   ]
  },
  {
   "cell_type": "code",
   "execution_count": 47,
   "metadata": {},
   "outputs": [
    {
     "data": {
      "text/plain": [
       "0.8597166538238525"
      ]
     },
     "execution_count": 47,
     "metadata": {},
     "output_type": "execute_result"
    }
   ],
   "source": [
    "test_acc"
   ]
  },
  {
   "cell_type": "code",
   "execution_count": null,
   "metadata": {},
   "outputs": [],
   "source": []
  }
 ],
 "metadata": {
  "kernelspec": {
   "display_name": "Python 3",
   "language": "python",
   "name": "python3"
  },
  "language_info": {
   "codemirror_mode": {
    "name": "ipython",
    "version": 3
   },
   "file_extension": ".py",
   "mimetype": "text/x-python",
   "name": "python",
   "nbconvert_exporter": "python",
   "pygments_lexer": "ipython3",
   "version": "3.8.5"
  }
 },
 "nbformat": 4,
 "nbformat_minor": 4
}
