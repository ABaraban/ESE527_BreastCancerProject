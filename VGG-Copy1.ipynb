{
 "cells": [
  {
   "cell_type": "code",
   "execution_count": 1,
   "metadata": {
    "collapsed": true
   },
   "outputs": [],
   "source": [
    "# code adapted from https://towardsdatascience.com/understanding-and-coding-a-resnet-in-keras-446d7ff84d33#:~:text=The%20Keras%20ResNet%20got%20to,to%20do%20with%20weight%20initializations.\n",
    "# import plaidml\n",
    "# import plaidml.keras\n",
    "# plaidml.install_backend()\n",
    "# import os\n",
    "# os.environ[\"KERAS_BACKEND\"] = \"plaidml.keras.backend\"\n",
    "    \n",
    "import random\n",
    "random.seed(10)\n",
    "\n",
    "from PIL import Image\n",
    "from glob import glob\n",
    "\n",
    "# Clean Script\n",
    "from glob import glob\n",
    "import tensorflow as tf\n",
    "import os\n",
    "\n",
    "from tensorflow.keras.utils import load_img\n",
    "\n",
    "from tensorflow.keras.applications import VGG16\n",
    "from tensorflow.keras.layers import Dense, Dropout, Flatten, Conv2D, MaxPool2D,GlobalAveragePooling2D\n",
    "from tensorflow.keras.models import Sequential,Model,load_model\n",
    "from sklearn.model_selection import train_test_split\n",
    "\n",
    "from tensorflow.keras import datasets, layers, models\n",
    "import matplotlib.pyplot as plt\n",
    "import numpy as np\n",
    "from keras.preprocessing.image import ImageDataGenerator\n",
    "from tensorflow.keras.optimizers import Adam\n",
    "\n",
    "# path_to_directory = 'imagedata/'\n",
    "\n",
    "\n",
    "# Collect paths to images based on label\n",
    "# The csv file is used so that there is no data leak depending on the machine\n",
    "import pandas as pd\n",
    "patientPaths = pd.read_csv('patientpaths.csv')['0'].to_list()\n",
    "# patientPaths= glob(os.path.join(path_to_directory, \"*\", \"\"))\n",
    "\n",
    "# print(patientPaths)\n",
    "nonCancerTrPaths = []\n",
    "nonCancerTestPaths = []\n",
    "cancerousTrPaths = []\n",
    "cancerousTestPaths = [] \n",
    "nonCancerValPaths1 = []\n",
    "cancerousValPaths1 = []\n",
    "nonCancerValPaths2 = []\n",
    "cancerousValPaths2 = []\n",
    "\n",
    "for i in range(0,168):\n",
    "    nonCancerTrPaths.extend(glob(os.path.join(patientPaths[i], \"0/\", \"*\")))\n",
    "    cancerousTrPaths.extend(glob(os.path.join(patientPaths[i], \"1/\", \"*\")))\n",
    "\n",
    "for i in range(168, 196):\n",
    "    nonCancerValPaths1.extend(glob(os.path.join(patientPaths[i], \"0/\", \"*\")))\n",
    "    cancerousValPaths1.extend(glob(os.path.join(patientPaths[i], \"1/\", \"*\")))\n",
    "    \n",
    "for i in range(196, 224):\n",
    "    nonCancerValPaths2.extend(glob(os.path.join(patientPaths[i], \"0/\", \"*\")))\n",
    "    cancerousValPaths2.extend(glob(os.path.join(patientPaths[i], \"1/\", \"*\")))\n",
    "\n",
    "for i in range(224,280):\n",
    "    nonCancerTestPaths.extend(glob(os.path.join(patientPaths[i], \"0/\", \"*\")))\n",
    "    cancerousTestPaths.extend(glob(os.path.join(patientPaths[i], \"1/\", \"*\")))\n"
   ]
  },
  {
   "cell_type": "code",
   "execution_count": 2,
   "metadata": {
    "collapsed": true
   },
   "outputs": [],
   "source": [
    "# Turn filepaths into image arrays to train a model\n",
    "def paths_to_image(paths, label, num_samples):\n",
    "    images = []\n",
    "    labels = []\n",
    "    for path in paths[0:num_samples]:\n",
    "        image = load_img(path)\n",
    "        image = image.resize([50, 50])\n",
    "        imgArray = tf.keras.utils.img_to_array(image)\n",
    "        images.append(imgArray)\n",
    "        labels.append(label)\n",
    "    return [images[0: num_samples], labels[0: num_samples]]\n",
    "\n",
    "nonCancerTrImages = paths_to_image(nonCancerTrPaths, 0, len(nonCancerTrPaths))\n",
    "cancerTrImages = paths_to_image(cancerousTrPaths, 1, len(cancerousTrPaths))\n",
    "\n",
    "nonCancerValImages1 = paths_to_image(nonCancerValPaths1, 0, len(nonCancerValPaths1))\n",
    "cancerValImages1 = paths_to_image(cancerousValPaths1, 1, len(cancerousValPaths1))\n",
    "\n",
    "nonCancerValImages2 = paths_to_image(nonCancerValPaths2, 0, len(nonCancerValPaths2))\n",
    "cancerValImages2 = paths_to_image(cancerousValPaths2, 1, len(cancerousValPaths2))\n",
    "\n",
    "nonCancerTestImages = paths_to_image(nonCancerTestPaths, 0, len(nonCancerTestPaths))\n",
    "cancerTestImages = paths_to_image(cancerousTestPaths, 1, len(cancerousTestPaths))\n"
   ]
  },
  {
   "cell_type": "code",
   "execution_count": 3,
   "metadata": {},
   "outputs": [
    {
     "name": "stdout",
     "output_type": "stream",
     "text": [
      "Number of cancer images in training set 119604\n",
      "Number of benign images in training set 119604\n"
     ]
    }
   ],
   "source": [
    "x_train = nonCancerTrImages[0] + cancerTrImages[0]\n",
    "y_train = nonCancerTrImages[1] + cancerTrImages[1]\n",
    "\n",
    "x_val1 = nonCancerValImages1[0] + cancerValImages1[0]\n",
    "y_val1 = nonCancerValImages1[1] + cancerValImages1[1]\n",
    "\n",
    "x_val2 = nonCancerValImages2[0] + cancerValImages2[0]\n",
    "y_val2 = nonCancerValImages2[1] + cancerValImages2[1]\n",
    "\n",
    "x_test = nonCancerTestImages[0]+ cancerTestImages[0]\n",
    "y_test = nonCancerTestImages[1]+ cancerTestImages[1]\n",
    "\n",
    "#function which rotates image a certain number of degrees = to rotation\n",
    "def rotate_image(X, y, rotation, num_to_rotate = None):\n",
    "    rotatedImages = []\n",
    "    labels = []\n",
    "    cancerX = X[y==1]\n",
    "    if num_to_rotate is not None and num_to_rotate < len(cancerX):\n",
    "        cancerX = cancerX[0: num_to_rotate]\n",
    "    for img in cancerX:\n",
    "        image = tf.keras.utils.array_to_img(img)\n",
    "        image = image.resize([50, 50])\n",
    "        rotateimg = image.rotate(rotation)\n",
    "        imgArray = tf.keras.utils.img_to_array(rotateimg)\n",
    "        rotatedImages.append(imgArray)\n",
    "        labels.append(1)\n",
    "    return [rotatedImages, labels]\n",
    "\n",
    "train90 = rotate_image(np.array(cancerTrImages[0]), np.array(cancerTrImages[1]), 90, 25758)\n",
    "train180 = rotate_image(np.array(cancerTrImages[0]), np.array(cancerTrImages[1]), 180, 25758)\n",
    "train270 = rotate_image(np.array(cancerTrImages[0]), np.array(cancerTrImages[1]), 270, 25757)\n",
    "\n",
    "print(\"Number of cancer images in training set\", str((len(train180[0]) + len(train90[0])) + len(train270[0]) + len(cancerTrImages[0])))\n",
    "print(\"Number of benign images in training set\", str(len(nonCancerTrImages[0])))\n"
   ]
  },
  {
   "cell_type": "code",
   "execution_count": 4,
   "metadata": {},
   "outputs": [
    {
     "name": "stdout",
     "output_type": "stream",
     "text": [
      "Number of cancer images in training set 119604\n",
      "Number of benign images in training set 119604\n"
     ]
    }
   ],
   "source": [
    "print(\"Number of cancer images in training set\", str((len(train180[0]) + len(train90[0])) + len(train270[0]) + sum(y_train)))\n",
    "print(\"Number of benign images in training set\", str(len(y_train) - sum(y_train)))\n"
   ]
  },
  {
   "cell_type": "code",
   "execution_count": 5,
   "metadata": {
    "collapsed": true
   },
   "outputs": [],
   "source": [
    "#combining training data with rotated data\n",
    "x_train = np.array(x_train)\n",
    "train90[0] = np.array(train90[0])\n",
    "train180[0] = np.array(train180[0])\n",
    "y_train = np.array(y_train)\n",
    "train90[1] = np.array(train90[1])\n",
    "train180[1] = np.array(train180[1])\n",
    "\n",
    "training_x = np.concatenate((x_train, train90[0], train180[0],train270[0]), axis=0)\n",
    "training_y = np.concatenate((y_train, train90[1], train180[1],train270[1]))\n",
    "\n",
    "\n",
    "datagen = ImageDataGenerator(featurewise_center=True, featurewise_std_normalization=True)\n",
    "datagen.fit(training_x)\n",
    "\n",
    "# Because of computing power problems we subset to 20000 images \n",
    "# (10000 cancerous and 10000 noncancerous) in training\n",
    "# train_x_param = np.concatenate((training_x[0:5000] ,training_x[120000:125000]), axis=0)\n",
    "# train_y_param = np.concatenate((training_y[0:5000] ,training_y[120000:125000]))\n",
    "\n",
    "# train_param_iterator = datagen.flow(np.array(train_x_param), np.array(train_y_param))\n",
    "\n",
    "val1_iterator = datagen.flow(np.array(x_val1), np.array(y_val1))\n",
    "val1x_iterator = datagen.flow(np.array(x_val1),batch_size=32, shuffle=False)\n"
   ]
  },
  {
   "cell_type": "code",
   "execution_count": 6,
   "metadata": {
    "collapsed": true
   },
   "outputs": [],
   "source": [
    "# #Learning rates above .01 are not useful\n",
    "import keras.backend as K\n",
    "import tensorflow_addons as tfa\n",
    "from keras.utils.np_utils import to_categorical  \n",
    "\n",
    "\n",
    "# learning_rates = [.0001, .001, .01]\n",
    "# batchsizes = [32, 256]\n",
    "# mccs = []\n",
    "\n",
    "# for lr in learning_rates:\n",
    "#     for bs in batchsizes: \n",
    "#         model = VGG16(weights=None, include_top=True, input_shape= (50, 50,3), classes=2, classifier_activation='softmax')\n",
    "#         adam = Adam(learning_rate=lr)\n",
    "#         model.compile(optimizer= adam, loss=tf.keras.losses.sparse_categorical_crossentropy, metrics=['accuracy'])\n",
    "\n",
    "#         print(\"FITTING\")\n",
    "#         history = model.fit(train_param_iterator, epochs=15, batch_size = bs, validation_data=val_iterator)\n",
    "    \n",
    "#         y_pred = model.predict(val1x_iterator)\n",
    "#         print(y_pred)\n",
    "#         y_true = to_categorical(np.array(y_val1), num_classes=2)\n",
    "#         print(y_true)\n",
    "#         metric = tfa.metrics.MatthewsCorrelationCoefficient(num_classes=2)\n",
    "#         metric.update_state(y_true, y_pred)\n",
    "#         result = metric.result()\n",
    "#         result.numpy()\n",
    "#         mccs.append((lr, bs, result.numpy()))\n",
    "\n",
    "# The model outputs a value between 0 and 1, which can be thought of as a probability of being a cancer or not\n",
    "# model.predict to find the pseudo probability which is a measure of confidence\n",
    "# we can output the score and the prediction\n",
    "# activation map to find the feature\n",
    "\n",
    "\n",
    "# LR = .0001, BS = 256 achieves the highest validation MCC"
   ]
  },
  {
   "cell_type": "code",
   "execution_count": 7,
   "metadata": {},
   "outputs": [
    {
     "name": "stdout",
     "output_type": "stream",
     "text": [
      "(269019, 50, 50, 3)\n",
      "(269019,)\n"
     ]
    }
   ],
   "source": [
    "# Include Val1 in our training set as we have validation 2 to tune our threshold\n",
    "training_x = np.concatenate((training_x, np.array(x_val1)), axis=0)\n",
    "training_y = np.concatenate((training_y, np.array(y_val1)))\n",
    "\n",
    "print(training_x.shape)\n",
    "print(training_y.shape)"
   ]
  },
  {
   "cell_type": "code",
   "execution_count": 8,
   "metadata": {
    "scrolled": false
   },
   "outputs": [
    {
     "name": "stdout",
     "output_type": "stream",
     "text": [
      "FITTING\n",
      "Epoch 1/15\n",
      "8407/8407 [==============================] - 5872s 698ms/step - loss: 0.3117 - accuracy: 0.8642 - val_loss: 0.3799 - val_accuracy: 0.8335\n",
      "Epoch 2/15\n",
      "8407/8407 [==============================] - 5492s 653ms/step - loss: 0.2329 - accuracy: 0.9026 - val_loss: 0.3903 - val_accuracy: 0.8189\n",
      "Epoch 3/15\n",
      "8407/8407 [==============================] - 5587s 665ms/step - loss: 0.2129 - accuracy: 0.9107 - val_loss: 0.3611 - val_accuracy: 0.8409\n",
      "Epoch 4/15\n",
      "8407/8407 [==============================] - 5350s 636ms/step - loss: 0.2010 - accuracy: 0.9164 - val_loss: 0.3616 - val_accuracy: 0.8344\n",
      "Epoch 5/15\n",
      "8407/8407 [==============================] - 6040s 718ms/step - loss: 0.1895 - accuracy: 0.9212 - val_loss: 0.3403 - val_accuracy: 0.8520\n",
      "Epoch 6/15\n",
      "8407/8407 [==============================] - 6003s 714ms/step - loss: 0.1802 - accuracy: 0.9256 - val_loss: 0.3712 - val_accuracy: 0.8485\n",
      "Epoch 7/15\n",
      "8407/8407 [==============================] - 6176s 735ms/step - loss: 0.1723 - accuracy: 0.9286 - val_loss: 0.3245 - val_accuracy: 0.8549\n",
      "Epoch 8/15\n",
      "8407/8407 [==============================] - 6338s 754ms/step - loss: 0.1642 - accuracy: 0.9325 - val_loss: 0.3226 - val_accuracy: 0.8602\n",
      "Epoch 9/15\n",
      "8407/8407 [==============================] - 6306s 750ms/step - loss: 0.1545 - accuracy: 0.9364 - val_loss: 0.3418 - val_accuracy: 0.8483\n",
      "Epoch 10/15\n",
      "8407/8407 [==============================] - 6171s 734ms/step - loss: 0.1437 - accuracy: 0.9411 - val_loss: 0.3584 - val_accuracy: 0.8534\n",
      "Epoch 11/15\n",
      "8407/8407 [==============================] - 6187s 736ms/step - loss: 0.1320 - accuracy: 0.9462 - val_loss: 0.3545 - val_accuracy: 0.8589\n",
      "Epoch 12/15\n",
      "8407/8407 [==============================] - 6199s 737ms/step - loss: 0.1190 - accuracy: 0.9521 - val_loss: 0.3965 - val_accuracy: 0.8528\n",
      "Epoch 13/15\n",
      "8407/8407 [==============================] - 6283s 747ms/step - loss: 0.1057 - accuracy: 0.9577 - val_loss: 0.4201 - val_accuracy: 0.8533\n",
      "Epoch 14/15\n",
      "8407/8407 [==============================] - 6321s 752ms/step - loss: 0.0921 - accuracy: 0.9636 - val_loss: 0.4601 - val_accuracy: 0.8500\n",
      "Epoch 15/15\n",
      "8407/8407 [==============================] - 6282s 747ms/step - loss: 0.0787 - accuracy: 0.9696 - val_loss: 0.5418 - val_accuracy: 0.8472\n"
     ]
    },
    {
     "data": {
      "image/png": "[encoded data removed]",
      "text/plain": [
       "<matplotlib.figure.Figure at 0x7fe400533128>"
      ]
     },
     "metadata": {},
     "output_type": "display_data"
    },
    {
     "name": "stdout",
     "output_type": "stream",
     "text": [
      "INFO:tensorflow:Assets written to: ThresholdTuning/assets\n"
     ]
    }
   ],
   "source": [
    "# Refit the normalization/standardization to the new training set\n",
    "datagen = ImageDataGenerator(featurewise_center=True, featurewise_std_normalization=True)\n",
    "datagen.fit(training_x)\n",
    "\n",
    "train_iterator = datagen.flow(np.array(training_x), np.array(training_y))\n",
    "val2_iterator = datagen.flow(np.array(x_val2), np.array(y_val2))\n",
    "\n",
    "LR = .0001\n",
    "BS = 256\n",
    "model = VGG16(weights=None, include_top=True, input_shape= (50, 50,3), classes=2, classifier_activation='softmax')\n",
    "adam = Adam(learning_rate=LR)\n",
    "model.compile(optimizer= adam, loss=tf.keras.losses.sparse_categorical_crossentropy, metrics=['accuracy'])\n",
    "\n",
    "print(\"FITTING\")\n",
    "history = model.fit(train_iterator, epochs=15, validation_data=val2_iterator, batch_size=BS)\n",
    "plt.plot(history.history['accuracy'], label='accuracy')\n",
    "plt.plot(history.history['val_accuracy'], label = 'val_accuracy')\n",
    "plt.xlabel('Epoch')\n",
    "plt.ylabel('Accuracy')\n",
    "plt.ylim([0.5, 1])\n",
    "plt.legend(loc='lower right')\n",
    "plt.title(\"Learning Rate: \" + str(LR) + \" Batch Size: \" + str(BS))\n",
    "plt.show()\n",
    "\n",
    "model.save(\"ThresholdTuning\")\n",
    "\n"
   ]
  },
  {
   "cell_type": "code",
   "execution_count": 54,
   "metadata": {
    "collapsed": true
   },
   "outputs": [],
   "source": [
    "def computeConfusionMatrix(preds, truth, threshold):\n",
    "    TPs = np.sum(truth[preds> threshold])\n",
    "    FPs = len(truth[preds > threshold]) - np.count_nonzero(truth[preds > threshold])\n",
    "    TNs = len(truth[preds <= threshold]) - np.count_nonzero(y_val2[preds <= threshold])\n",
    "    FNs = np.sum(truth[preds <= threshold])\n",
    "    \n",
    "    print(\"TP: \" + str(TPs / np.sum(preds> threshold)))\n",
    "    print(\"FP: \" + str(FPs / np.sum(preds> threshold)))\n",
    "    print(\"TN \" + str(TNs / np.sum(preds<=threshold)))\n",
    "    print(\"FN \" + str(FNs / np.sum(preds<=threshold)))\n",
    "    \n",
    "    return None\n",
    "\n"
   ]
  },
  {
   "cell_type": "code",
   "execution_count": 19,
   "metadata": {},
   "outputs": [],
   "source": [
    "from sklearn.metrics import auc\n",
    "from sklearn.metrics import roc_curve\n",
    "import matplotlib.pyplot as plt\n",
    "\n",
    "val2_iterator = datagen.flow(np.array(x_val2), np.array(y_val2))\n",
    "val2x_iterator = datagen.flow(np.array(x_val2), shuffle = False)\n",
    "\n",
    "val2_preds = model.predict(val2x_iterator)\n",
    "\n",
    "\n",
    "y_pred1 = [val2_preds[i][1] for i in range(0, val2_preds.shape[0])]\n",
    "fpr_keras, tpr_keras, thresholds_keras = roc_curve(np.array(y_val2), y_pred1)\n",
    "\n",
    "\n",
    "auc_keras = auc(fpr_keras, tpr_keras)\n",
    "plt.figure()\n",
    "\n",
    "plt.xlim(0, 1)\n",
    "plt.ylim(0, 1)\n",
    "plt.plot([0, 1], [0, 1], 'k--')\n",
    "plt.plot(fpr_keras, tpr_keras, label='Keras (area = {:.3f})'.format(auc_keras))\n",
    "plt.xlabel('False positive rate')\n",
    "plt.ylabel('True positive rate')\n",
    "plt.title('ROC curve')\n",
    "plt.legend(loc='best')\n",
    "plt.savefig(\"ROCThresholdTuner.png\")"
   ]
  },
  {
   "cell_type": "code",
   "execution_count": 57,
   "metadata": {},
   "outputs": [
    {
     "name": "stdout",
     "output_type": "stream",
     "text": [
      "TP: 0.623337308503807\n",
      "FP: 0.376662691496193\n",
      "TN 0.9427159462657478\n",
      "FN 0.057284053734252105\n"
     ]
    }
   ],
   "source": [
    "Ts = np.linspace(0, 1, num=1000)\n",
    "ratio = 5\n",
    "numBenignMisses = []\n",
    "numCancerMisses = []\n",
    "\n",
    "predictions = np.array(y_pred1)\n",
    "y_val2 = np.array(y_val2)\n",
    "for thresh in Ts:\n",
    "    numBenignMiss = 0\n",
    "    numCancerMiss = 0\n",
    "    for i in range(0, len(predictions)):\n",
    "        if (predictions[i] >= thresh) and (y_val2[i] == 0):\n",
    "            numBenignMiss += 1\n",
    "        if (predictions[i] < thresh) and (y_val2[i] == 1):\n",
    "            numCancerMiss += 1\n",
    "    numBenignMisses.append(numBenignMiss)\n",
    "    numCancerMisses.append(numCancerMiss)\n",
    "\n",
    "minDiff = 1000000000\n",
    "Tstar = 0\n",
    "for i in range(0, len(Ts)):\n",
    "    diff = abs(numBenignMisses[i] - ratio*numCancerMisses[i])\n",
    "    if diff < minDiff:\n",
    "        minDiff = abs(numBenignMisses[i] - ratio*numCancerMisses[i])\n",
    "        Tstar = Ts[i]\n",
    "\n",
    "Tstar\n",
    "computeConfusionMatrix(predictions, y_val2, Tstar)\n",
    "            \n"
   ]
  },
  {
   "cell_type": "code",
   "execution_count": 55,
   "metadata": {},
   "outputs": [
    {
     "name": "stdout",
     "output_type": "stream",
     "text": [
      "TP: 0.6772732061953429\n",
      "FP: 0.322726793804657\n",
      "TN 0.924573746593142\n",
      "FN 0.07542625340685809\n"
     ]
    },
    {
     "data": {
      "text/plain": [
       "(6428, 3063, 1190, 14587)"
      ]
     },
     "execution_count": 55,
     "metadata": {},
     "output_type": "execute_result"
    }
   ],
   "source": [
    "# We can also find the optimal T for the posterior odds ratio using Bayesian detection theory\n",
    "posteriorRatio = val2_preds[:, 1] / val2_preds[:, 0]\n",
    "\n",
    "# The threshold is the ratio of the losses which is .1\n",
    "\n",
    "np.sum(posteriorRatio > .1)\n",
    "computeConfusionMatrix(posteriorRatio, y_val2, .1)\n",
    "\n",
    "# Compute the confusion matrix \n",
    "TPs = np.sum(y_val2[posteriorRatio > .1])\n",
    "FPs = len(y_val2[posteriorRatio > .1]) - np.count_nonzero(y_val2[posteriorRatio > .1])\n",
    "TNs = len(y_val2[posteriorRatio <= .1]) - np.count_nonzero(y_val2[posteriorRatio <= .1])\n",
    "FNs = np.sum(y_val2[posteriorRatio <= .1])\n",
    "\n",
    "TPs, FPs, FNs, TNs"
   ]
  },
  {
   "cell_type": "markdown",
   "metadata": {},
   "source": [
    "## Rerun on full training dataset"
   ]
  },
  {
   "cell_type": "code",
   "execution_count": null,
   "metadata": {},
   "outputs": [],
   "source": [
    "# fit model on full dataset \n",
    "\n",
    "from PIL import Image\n",
    "from glob import glob\n",
    "\n",
    "# Clean Script\n",
    "from glob import glob\n",
    "import tensorflow as tf\n",
    "import os\n",
    "\n",
    "from tensorflow.keras.utils import load_img\n",
    "\n",
    "from tensorflow.keras.applications import VGG16\n",
    "from tensorflow.keras.layers import Dense, Dropout, Flatten, Conv2D, MaxPool2D,GlobalAveragePooling2D\n",
    "from tensorflow.keras.models import Sequential,Model,load_model\n",
    "from sklearn.model_selection import train_test_split\n",
    "\n",
    "from tensorflow.keras import datasets, layers, models\n",
    "import matplotlib.pyplot as plt\n",
    "import numpy as np\n",
    "from keras.preprocessing.image import ImageDataGenerator\n",
    "from tensorflow.keras.optimizers import Adam\n",
    "\n",
    "# path_to_directory = 'imagedata/'\n",
    "\n",
    "\n",
    "# Collect paths to images based on label\n",
    "# The csv file is used so that there is no data leak depending on the machine\n",
    "import pandas as pd\n",
    "patientPaths = pd.read_csv('patientpaths.csv')['0'].to_list()\n",
    "# patientPaths= glob(os.path.join(path_to_directory, \"*\", \"\"))\n",
    "\n",
    "# print(patientPaths)\n",
    "nonCancerTrPaths = []\n",
    "nonCancerTestPaths = []\n",
    "cancerousTrPaths = []\n",
    "cancerousTestPaths = [] \n",
    "nonCancerValPaths1 = []\n",
    "cancerousValPaths1 = []\n",
    "nonCancerValPaths2 = []\n",
    "cancerousValPaths2 = []\n",
    "\n",
    "for i in range(0,224):\n",
    "    nonCancerTrPaths.extend(glob(os.path.join(patientPaths[i], \"0/\", \"*\")))\n",
    "    cancerousTrPaths.extend(glob(os.path.join(patientPaths[i], \"1/\", \"*\")))\n",
    "\n",
    "for i in range(168, 196):\n",
    "    nonCancerValPaths1.extend(glob(os.path.join(patientPaths[i], \"0/\", \"*\")))\n",
    "    cancerousValPaths1.extend(glob(os.path.join(patientPaths[i], \"1/\", \"*\")))\n",
    "    \n",
    "for i in range(196, 224):\n",
    "    nonCancerValPaths2.extend(glob(os.path.join(patientPaths[i], \"0/\", \"*\")))\n",
    "    cancerousValPaths2.extend(glob(os.path.join(patientPaths[i], \"1/\", \"*\")))\n",
    "\n",
    "for i in range(224,280):\n",
    "    nonCancerTestPaths.extend(glob(os.path.join(patientPaths[i], \"0/\", \"*\")))\n",
    "    cancerousTestPaths.extend(glob(os.path.join(patientPaths[i], \"1/\", \"*\")))\n",
    "\n",
    "# Turn filepaths into image arrays to train a model\n",
    "def paths_to_image(paths, label, num_samples):\n",
    "    images = []\n",
    "    labels = []\n",
    "    for path in paths[0:num_samples]:\n",
    "        image = load_img(path)\n",
    "        image = image.resize([50, 50])\n",
    "        imgArray = tf.keras.utils.img_to_array(image)\n",
    "        images.append(imgArray)\n",
    "        labels.append(label)\n",
    "    return [images[0: num_samples], labels[0: num_samples]]\n",
    "\n",
    "nonCancerTrImages = paths_to_image(nonCancerTrPaths, 0, len(nonCancerTrPaths))\n",
    "cancerTrImages = paths_to_image(cancerousTrPaths, 1, len(cancerousTrPaths))\n",
    "\n",
    "nonCancerValImages1 = paths_to_image(nonCancerValPaths1, 0, len(nonCancerValPaths1))\n",
    "cancerValImages1 = paths_to_image(cancerousValPaths1, 1, len(cancerousValPaths1))\n",
    "\n",
    "nonCancerValImages2 = paths_to_image(nonCancerValPaths2, 0, len(nonCancerValPaths2))\n",
    "cancerValImages2 = paths_to_image(cancerousValPaths2, 1, len(cancerousValPaths2))\n",
    "\n",
    "nonCancerTestImages = paths_to_image(nonCancerTestPaths, 0, len(nonCancerTestPaths))\n",
    "cancerTestImages = paths_to_image(cancerousTestPaths, 1, len(cancerousTestPaths))\n",
    "\n",
    "x_train = nonCancerTrImages[0] + cancerTrImages[0]\n",
    "y_train = nonCancerTrImages[1] + cancerTrImages[1]\n",
    "\n",
    "x_val1 = nonCancerValImages1[0] + cancerValImages1[0]\n",
    "y_val1 = nonCancerValImages1[1] + cancerValImages1[1]\n",
    "\n",
    "x_val2 = nonCancerValImages2[0] + cancerValImages2[0]\n",
    "y_val2 = nonCancerValImages2[1] + cancerValImages2[1]\n",
    "\n",
    "#function which rotates image a certain number of degrees = to rotation\n",
    "def rotate_image(X, y, rotation, num_to_rotate = None):\n",
    "    rotatedImages = []\n",
    "    labels = []\n",
    "    cancerX = X[y==1]\n",
    "    if num_to_rotate is not None and num_to_rotate < len(cancerX):\n",
    "        cancerX = cancerX[0: num_to_rotate]\n",
    "    for img in cancerX:\n",
    "        image = tf.keras.utils.array_to_img(img)\n",
    "        image = image.resize([50, 50])\n",
    "        rotateimg = image.rotate(rotation)\n",
    "        imgArray = tf.keras.utils.img_to_array(rotateimg)\n",
    "        rotatedImages.append(imgArray)\n",
    "        labels.append(1)\n",
    "    return [rotatedImages, labels]\n",
    "\n",
    "train90 = rotate_image(np.array(cancerTrImages[0]), np.array(cancerTrImages[1]), 90, 25758)\n",
    "train180 = rotate_image(np.array(cancerTrImages[0]), np.array(cancerTrImages[1]), 180, 25758)\n",
    "train270 = rotate_image(np.array(cancerTrImages[0]), np.array(cancerTrImages[1]), 270, 25757)\n",
    "\n",
    "val1aug90 = rotate_image(np.array(cancerValImages1[0]), np.array(cancerValImages1[1]), 90)\n",
    "val1aug180 = rotate_image(np.array(cancerValImages1[0]), np.array(cancerValImages1[1]), 90, 4776)\n",
    "val2aug90 = rotate_image(np.array(cancerValImages2[0]), np.array(cancerValImages2[1]), 90)\n",
    "val2aug180 = rotate_image(np.array(cancerValImages2[0]), np.array(cancerValImages2[1]), 90, 2414)\n",
    "\n",
    "print(\"Number of cancer images in training set\", str((len(train180[0]) + len(train90[0])) + len(train270[0]) + len(cancerTrImages[0])))\n",
    "print(\"Number of benign images in training set\", str(len(nonCancerTrImages[0])))\n",
    "\n",
    "print('cancer val images',len(cancerValImages1[0]))\n",
    "print('noncancer val images',len(nonCancerValImages1[0]))\n",
    "print('cancer val images',len(cancerValImages2[0]))\n",
    "print('noncancer val images',len(nonCancerValImages2[0]))\n",
    "\n"
   ]
  },
  {
   "cell_type": "code",
   "execution_count": null,
   "metadata": {},
   "outputs": [],
   "source": [
    "#combining training data with rotated data\n",
    "x_train = np.array(x_train)\n",
    "train90[0] = np.array(train90[0])\n",
    "train180[0] = np.array(train180[0])\n",
    "y_train = np.array(y_train)\n",
    "train90[1] = np.array(train90[1])\n",
    "train180[1] = np.array(train180[1])\n",
    "\n",
    "training_x = np.concatenate((x_train, train90[0], train180[0],train270[0],x_val1,val1aug90[0],val1aug180[0],val2aug90[0],val2aug180[0]), axis=0)\n",
    "training_y = np.concatenate((y_train, train90[1], train180[1],train270[1],y_val1,val1aug90[1],val1aug180[1],val2aug90[1],val2aug180[1]))\n",
    "\n",
    "print(training_x.shape)\n",
    "print(training_y.shape)\n",
    "\n",
    "\n"
   ]
  },
  {
   "cell_type": "code",
   "execution_count": null,
   "metadata": {},
   "outputs": [],
   "source": [
    "datagen = ImageDataGenerator(featurewise_center=True, featurewise_std_normalization=True)\n",
    "datagen.fit(training_x)\n",
    "\n",
    "# Because of computing power problems we subset to 20000 images \n",
    "# (10000 cancerous and 10000 noncancerous) in training\n",
    "# train_x_param = np.concatenate((training_x[0:5000] ,training_x[120000:125000]), axis=0)\n",
    "# train_y_param = np.concatenate((training_y[0:5000] ,training_y[120000:125000]))\n",
    "\n",
    "# train_param_iterator = datagen.flow(np.array(train_x_param), np.array(train_y_param))\n",
    "\n",
    "val1_iterator = datagen.flow(np.array(x_val1), np.array(y_val1))\n",
    "val1x_iterator = datagen.flow(np.array(x_val1),batch_size=32, shuffle=False)\n",
    "\n",
    "# Refit the normalization/standardization to the new training set\n",
    "datagen = ImageDataGenerator(featurewise_center=True, featurewise_std_normalization=True)\n",
    "datagen.fit(training_x)\n",
    "\n",
    "train_iterator = datagen.flow(np.array(training_x), np.array(training_y))\n",
    "val2_iterator = datagen.flow(np.array(x_val2), np.array(y_val2))\n",
    "\n",
    "LR = .0001\n",
    "BS = 256\n",
    "model = VGG16(weights=None, include_top=True, input_shape= (50, 50,3), classes=2, classifier_activation='softmax')\n",
    "adam = Adam(learning_rate=LR)\n",
    "model.compile(optimizer= adam, loss=tf.keras.losses.sparse_categorical_crossentropy, metrics=['accuracy'])\n",
    "\n",
    "print(\"FITTING\")\n",
    "history = model.fit(train_iterator, epochs=15, validation_data=val2_iterator, batch_size=BS)\n",
    "plt.plot(history.history['accuracy'], label='accuracy')\n",
    "plt.plot(history.history['val_accuracy'], label = 'val_accuracy')\n",
    "plt.xlabel('Epoch')\n",
    "plt.ylabel('Accuracy')\n",
    "plt.ylim([0.5, 1])\n",
    "plt.legend(loc='lower right')\n",
    "plt.title(\"Learning Rate: \" + str(LR) + \" Batch Size: \" + str(BS))\n",
    "plt.show()\n",
    "\n",
    "model.save(\"ThresholdTuning\")"
   ]
  },
  {
   "cell_type": "markdown",
   "metadata": {},
   "source": [
    "## Performance on Test Set"
   ]
  },
  {
   "cell_type": "code",
   "execution_count": null,
   "metadata": {},
   "outputs": [],
   "source": []
  },
  {
   "cell_type": "code",
   "execution_count": null,
   "metadata": {
    "collapsed": true
   },
   "outputs": [],
   "source": [
    "model.summary()"
   ]
  },
  {
   "cell_type": "code",
   "execution_count": null,
   "metadata": {
    "collapsed": true
   },
   "outputs": [],
   "source": [
    "test_iterator = datagen.flow(np.array(x_test), np.array(y_test))\n",
    "\n",
    "model.evaluate(test_iterator)"
   ]
  },
  {
   "cell_type": "code",
   "execution_count": null,
   "metadata": {
    "collapsed": true
   },
   "outputs": [],
   "source": [
    "a = np.array(y_test)\n",
    "a[a==1].shape\n",
    " \n",
    "\n",
    "acc = (49684*0.4283320903778076+0.8424640893936157*19697) /(49684+19697)\n",
    "acc"
   ]
  },
  {
   "cell_type": "code",
   "execution_count": null,
   "metadata": {
    "collapsed": true
   },
   "outputs": [],
   "source": [
    "y_prediction = model.predict(np.array(x_test))\n",
    "# ypred2 = model.predict_classes(np.array(x_test))\n"
   ]
  },
  {
   "cell_type": "code",
   "execution_count": null,
   "metadata": {
    "collapsed": true
   },
   "outputs": [],
   "source": [
    "prediction = np.zeros(y_prediction.shape[0])\n",
    "mask = (y_prediction[:,0]<0.5)\n",
    "prediction[mask] = 1\n",
    "print(prediction)\n",
    "\n",
    "equal = np.zeros(y_prediction.shape[0])\n",
    "equal[prediction == np.array(y_test)] = 1\n",
    "\n",
    "accuracy = np.sum(equal)/y_prediction.shape[0]\n",
    "accuracy"
   ]
  },
  {
   "cell_type": "code",
   "execution_count": null,
   "metadata": {
    "collapsed": true
   },
   "outputs": [],
   "source": [
    "y_test[np.array(y_test) == 0]"
   ]
  },
  {
   "cell_type": "code",
   "execution_count": null,
   "metadata": {
    "collapsed": true
   },
   "outputs": [],
   "source": [
    "from sklearn.metrics import confusion_matrix, ConfusionMatrixDisplay\n",
    "result = confusion_matrix(y_test, prediction , normalize='pred')\n",
    "disp = ConfusionMatrixDisplay(confusion_matrix=result )\n",
    "\n",
    "disp.plot()\n"
   ]
  },
  {
   "cell_type": "code",
   "execution_count": null,
   "metadata": {
    "collapsed": true
   },
   "outputs": [],
   "source": [
    "prediction = np.zeros(y_prediction.shape[0])\n",
    "mask = (y_prediction[:,1]<0.8)\n",
    "prediction[mask] = 1\n",
    "print(prediction)\n",
    "\n",
    "equal = np.zeros(y_prediction.shape[0])\n",
    "equal[prediction == np.array(y_test)] = 1\n",
    "\n",
    "accuracy = np.sum(equal)/y_prediction.shape[0]\n",
    "accuracy\n",
    "\n",
    "result = confusion_matrix(y_test, prediction , normalize='pred')\n",
    "disp = ConfusionMatrixDisplay(confusion_matrix=result )\n",
    "\n",
    "disp.plot()"
   ]
  },
  {
   "cell_type": "code",
   "execution_count": null,
   "metadata": {
    "collapsed": true
   },
   "outputs": [],
   "source": [
    "# cancer evaluation\n",
    "cancer_iterator = datagen.flow(np.array(np.array(x_test)[np.array(y_test) == 1]), np.array(y_test)[np.array(y_test) == 1])\n",
    "\n",
    "model.evaluate(cancer_iterator)"
   ]
  },
  {
   "cell_type": "code",
   "execution_count": null,
   "metadata": {
    "collapsed": true
   },
   "outputs": [],
   "source": [
    "# benign evaluation\n",
    "\n",
    "benign_iterator = datagen.flow(np.array(np.array(x_test)[np.array(y_test) == 0]), np.array(y_test)[np.array(y_test) == 0])\n",
    "\n",
    "model.evaluate(benign_iterator)\n",
    "\n",
    "\n"
   ]
  },
  {
   "cell_type": "markdown",
   "metadata": {},
   "source": [
    "## Heatmap"
   ]
  },
  {
   "cell_type": "code",
   "execution_count": null,
   "metadata": {
    "collapsed": true
   },
   "outputs": [],
   "source": [
    "## the penalty of missing a cancer is 2 million dollars * .05 100000\n",
    "## the penalty of diagnosing a cancer when it isn't there is lets say 20000\n",
    "import keras\n",
    "def get_img_array(img_path, size):\n",
    "    # `img` is a PIL image of size 299x299\n",
    "    img = load_img(img_path, target_size=size)\n",
    "    # `array` is a float32 Numpy array of shape (299, 299, 3)\n",
    "    array = tf.keras.utils.img_to_array(img)\n",
    "    # We add a dimension to transform our array into a \"batch\"\n",
    "    # of size (1, 299, 299, 3)\n",
    "    array = np.expand_dims(array, axis=0)\n",
    "    return array\n",
    "\n",
    "def make_gradcam_heatmap(img_array, model, last_conv_layer_name, pred_index=None):\n",
    "    # First, we create a model that maps the input image to the activations\n",
    "    # of the last conv layer as well as the output predictions\n",
    "    grad_model = tf.keras.models.Model(\n",
    "        [model.inputs], [model.get_layer(last_conv_layer_name).output, model.output]\n",
    "    )\n",
    "\n",
    "    # Then, we compute the gradient of the top predicted class for our input image\n",
    "    # with respect to the activations of the last conv layer\n",
    "    with tf.GradientTape() as tape:\n",
    "        last_conv_layer_output, preds = grad_model(img_array)\n",
    "        if pred_index is None:\n",
    "            pred_index = tf.argmax(preds[0])\n",
    "        class_channel = preds[:, pred_index]\n",
    "\n",
    "    # This is the gradient of the output neuron (top predicted or chosen)\n",
    "    # with regard to the output feature map of the last conv layer\n",
    "    grads = tape.gradient(class_channel, last_conv_layer_output)\n",
    "\n",
    "    # This is a vector where each entry is the mean intensity of the gradient\n",
    "    # over a specific feature map channel\n",
    "    pooled_grads = tf.reduce_mean(grads, axis=(0, 1, 2))\n",
    "\n",
    "    # We multiply each channel in the feature map array\n",
    "    # by \"how important this channel is\" with regard to the top predicted class\n",
    "    # then sum all the channels to obtain the heatmap class activation\n",
    "    last_conv_layer_output = last_conv_layer_output[0]\n",
    "    heatmap = last_conv_layer_output @ pooled_grads[..., tf.newaxis]\n",
    "    heatmap = tf.squeeze(heatmap)\n",
    "\n",
    "    # For visualization purpose, we will also normalize the heatmap between 0 & 1\n",
    "    heatmap = tf.maximum(heatmap, 0) / tf.math.reduce_max(heatmap)\n",
    "    return heatmap.numpy()\n",
    "plt.figure()\n",
    "img_size = (50, 50)\n",
    "path = \"imagedata/10253/0/10253_idx5_x1001_y1001_class0.png\"\n",
    "heatmap = make_gradcam_heatmap(datagen.flow(get_img_array(path, img_size))[0], model, \"block3_conv3\")\n",
    "plt.matshow(heatmap)\n",
    "plt.show()"
   ]
  },
  {
   "cell_type": "code",
   "execution_count": null,
   "metadata": {
    "collapsed": true
   },
   "outputs": [],
   "source": [
    "from IPython.display import Image, display\n",
    "import matplotlib.pyplot as plt\n",
    "import matplotlib.cm as cm\n",
    "def save_and_display_gradcam(img_path, heatmap, cam_path=\"cam.jpg\", alpha=0.4):\n",
    "    # Load the original image\n",
    "    img = load_img(img_path)\n",
    "    img = tf.keras.utils.img_to_array(img)\n",
    "\n",
    "    # Rescale heatmap to a range 0-255\n",
    "    heatmap = np.uint8(255 * heatmap)\n",
    "\n",
    "    # Use jet colormap to colorize heatmap\n",
    "    jet = cm.get_cmap(\"jet\")\n",
    "\n",
    "    # Use RGB values of the colormap\n",
    "    jet_colors = jet(np.arange(256))[:, :3]\n",
    "    jet_heatmap = jet_colors[heatmap]\n",
    "\n",
    "    # Create an image with RGB colorized heatmap\n",
    "    jet_heatmap = tf.keras.utils.array_to_img(jet_heatmap)\n",
    "    jet_heatmap = jet_heatmap.resize((img.shape[1], img.shape[0]))\n",
    "    jet_heatmap = keras.preprocessing.image.img_to_array(jet_heatmap)\n",
    "\n",
    "    # Superimpose the heatmap on original image\n",
    "    superimposed_img = jet_heatmap * alpha + img\n",
    "    superimposed_img = keras.preprocessing.image.array_to_img(superimposed_img)\n",
    "\n",
    "    # Save the superimposed image\n",
    "    superimposed_img.save(cam_path)\n",
    "\n",
    "    # Display Grad CAM\n",
    "    display(Image(cam_path))\n",
    "\n",
    "\n",
    "save_and_display_gradcam(path, heatmap)"
   ]
  },
  {
   "cell_type": "code",
   "execution_count": null,
   "metadata": {
    "collapsed": true
   },
   "outputs": [],
   "source": [
    "from sklearn.metrics import roc_curve\n",
    "import matplotlib.pyplot as plt\n",
    "\n",
    "y_pred_keras = model.predict(np.array(x_test)).ravel()\n"
   ]
  },
  {
   "cell_type": "code",
   "execution_count": null,
   "metadata": {
    "collapsed": true
   },
   "outputs": [],
   "source": [
    "from sklearn.metrics import auc\n",
    "y_pred0 = [y_prediction[i][1] for i in range(0, y_prediction.shape[0])]\n",
    "fpr_keras, tpr_keras, thresholds_keras = roc_curve(np.array(y_test), y_pred0)\n",
    "\n",
    "\n",
    "auc_keras = auc(fpr_keras, tpr_keras)\n",
    "plt.figure()\n",
    "\n",
    "plt.xlim(0, 1)\n",
    "plt.ylim(0, 1)\n",
    "plt.plot([0, 1], [0, 1], 'k--')\n",
    "plt.plot(fpr_keras, tpr_keras, label='Keras (area = {:.3f})'.format(auc_keras))\n",
    "plt.xlabel('False positive rate')\n",
    "plt.ylabel('True positive rate')\n",
    "plt.title('ROC curve')\n",
    "plt.legend(loc='best')\n",
    "plt.savefig(\"ROC.png\")"
   ]
  }
 ],
 "metadata": {
  "kernelspec": {
   "display_name": "Python 3 (ipykernel)",
   "language": "python",
   "name": "python3"
  },
  "language_info": {
   "codemirror_mode": {
    "name": "ipython",
    "version": 3
   },
   "file_extension": ".py",
   "mimetype": "text/x-python",
   "name": "python",
   "nbconvert_exporter": "python",
   "pygments_lexer": "ipython3",
   "version": "3.10.9"
  }
 },
 "nbformat": 4,
 "nbformat_minor": 4
}
