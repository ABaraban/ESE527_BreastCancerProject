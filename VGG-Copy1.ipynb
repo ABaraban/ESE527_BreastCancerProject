{
 "cells": [
  {
   "cell_type": "code",
   "execution_count": 52,
   "metadata": {},
   "outputs": [],
   "source": [
    "# code adapted from https://towardsdatascience.com/understanding-and-coding-a-resnet-in-keras-446d7ff84d33#:~:text=The%20Keras%20ResNet%20got%20to,to%20do%20with%20weight%20initializations.\n",
    "# import plaidml\n",
    "# import plaidml.keras\n",
    "# plaidml.install_backend()\n",
    "# import os\n",
    "# os.environ[\"KERAS_BACKEND\"] = \"plaidml.keras.backend\"\n",
    "    \n",
    "import random\n",
    "random.seed(10)\n",
    "\n",
    "from PIL import Image\n",
    "from glob import glob\n",
    "\n",
    "# Clean Script\n",
    "from glob import glob\n",
    "import tensorflow as tf\n",
    "import os\n",
    "\n",
    "from tensorflow.keras.utils import load_img\n",
    "\n",
    "from tensorflow.keras.applications import VGG16\n",
    "from tensorflow.keras.layers import Dense, Dropout, Flatten, Conv2D, MaxPool2D,GlobalAveragePooling2D\n",
    "from tensorflow.keras.models import Sequential,Model,load_model\n",
    "from sklearn.model_selection import train_test_split\n",
    "\n",
    "from tensorflow.keras import datasets, layers, models\n",
    "import matplotlib.pyplot as plt\n",
    "import numpy as np\n",
    "from keras.preprocessing.image import ImageDataGenerator\n",
    "from tensorflow.keras.optimizers import Adam\n",
    "\n",
    "path_to_directory = 'imagedata/'\n",
    "\n",
    "\n",
    "# Collect paths to images based on label\n",
    "patientPaths= glob(os.path.join(path_to_directory, \"*\", \"\"))\n",
    "\n",
    "# print(patientPaths)\n",
    "nonCancerTrPaths = []\n",
    "nonCancerTestPaths = []\n",
    "cancerousTrPaths = []\n",
    "cancerousTestPaths = [] \n",
    "nonCancerValPaths1 = []\n",
    "cancerousValPaths1 = []\n",
    "nonCancerValPaths2 = []\n",
    "cancerousValPaths2 = []\n",
    "\n",
    "for i in range(0,168):\n",
    "    nonCancerTrPaths.extend(glob(os.path.join(patientPaths[i], \"0/\", \"*\")))\n",
    "    cancerousTrPaths.extend(glob(os.path.join(patientPaths[i], \"1/\", \"*\")))\n",
    "\n",
    "for i in range(168, 196):\n",
    "    nonCancerValPaths1.extend(glob(os.path.join(patientPaths[i], \"0/\", \"*\")))\n",
    "    cancerousValPaths1.extend(glob(os.path.join(patientPaths[i], \"1/\", \"*\")))\n",
    "    \n",
    "for i in range(196, 224):\n",
    "    nonCancerValPaths2.extend(glob(os.path.join(patientPaths[i], \"0/\", \"*\")))\n",
    "    cancerousValPaths2.extend(glob(os.path.join(patientPaths[i], \"1/\", \"*\")))\n",
    "\n",
    "for i in range(224,280):\n",
    "    nonCancerTestPaths.extend(glob(os.path.join(patientPaths[i], \"0/\", \"*\")))\n",
    "    cancerousTestPaths.extend(glob(os.path.join(patientPaths[i], \"1/\", \"*\")))\n"
   ]
  },
  {
   "cell_type": "code",
   "execution_count": 53,
   "metadata": {},
   "outputs": [],
   "source": [
    "# Turn filepaths into image arrays to train a model\n",
    "def paths_to_image(paths, label, num_samples):\n",
    "    images = []\n",
    "    labels = []\n",
    "    for path in paths[0:num_samples]:\n",
    "        image = load_img(path)\n",
    "        image = image.resize([50, 50])\n",
    "        imgArray = tf.keras.utils.img_to_array(image)\n",
    "        images.append(imgArray)\n",
    "        labels.append(label)\n",
    "    return [images[0: num_samples], labels[0: num_samples]]\n",
    "\n",
    "nonCancerTrImages = paths_to_image(nonCancerTrPaths, 0, len(nonCancerTrPaths))\n",
    "cancerTrImages = paths_to_image(cancerousTrPaths, 1, len(cancerousTrPaths))\n",
    "\n",
    "nonCancerValImages1 = paths_to_image(nonCancerValPaths1, 0, len(nonCancerValPaths1))\n",
    "cancerValImages1 = paths_to_image(cancerousValPaths1, 1, len(cancerousValPaths1))\n",
    "\n",
    "nonCancerValImages2 = paths_to_image(nonCancerValPaths2, 0, len(nonCancerValPaths2))\n",
    "cancerValImages2 = paths_to_image(cancerousValPaths2, 1, len(cancerousValPaths2))\n",
    "\n",
    "nonCancerTestImages = paths_to_image(nonCancerTestPaths, 0, len(nonCancerTestPaths))\n",
    "cancerTestImages = paths_to_image(cancerousTestPaths, 1, len(cancerousTestPaths))\n"
   ]
  },
  {
   "cell_type": "code",
   "execution_count": 54,
   "metadata": {},
   "outputs": [
    {
     "name": "stdout",
     "output_type": "stream",
     "text": [
      "Number of cancer images in training set 119604\n",
      "Number of benign images in training set 119604\n"
     ]
    }
   ],
   "source": [
    "x_train = nonCancerTrImages[0] + cancerTrImages[0]\n",
    "y_train = nonCancerTrImages[1] + cancerTrImages[1]\n",
    "\n",
    "x_val1 = nonCancerValImages1[0] + cancerValImages1[0]\n",
    "y_val1 = nonCancerValImages1[1] + cancerValImages1[1]\n",
    "\n",
    "x_val2 = nonCancerValImages2[0] + cancerValImages2[0]\n",
    "y_val2 = nonCancerValImages2[1] + cancerValImages2[1]\n",
    "\n",
    "x_test = nonCancerTestImages[0]+ cancerTestImages[0]\n",
    "y_test = nonCancerTestImages[1]+ cancerTestImages[1]\n",
    "\n",
    "#function which rotates image a certain number of degrees = to rotation\n",
    "def rotate_image(X, y, rotation, num_to_rotate = None):\n",
    "    rotatedImages = []\n",
    "    labels = []\n",
    "    cancerX = X[y==1]\n",
    "    if num_to_rotate is not None and num_to_rotate < len(cancerX):\n",
    "        cancerX = cancerX[0: num_to_rotate]\n",
    "    for img in cancerX:\n",
    "        image = tf.keras.utils.array_to_img(img)\n",
    "        image = image.resize([50, 50])\n",
    "        rotateimg = image.rotate(rotation)\n",
    "        imgArray = tf.keras.utils.img_to_array(rotateimg)\n",
    "        rotatedImages.append(imgArray)\n",
    "        labels.append(1)\n",
    "    return [rotatedImages, labels]\n",
    "42331\n",
    "\n",
    "train90 = rotate_image(np.array(cancerTrImages[0]), np.array(cancerTrImages[1]), 90, 25758)\n",
    "train180 = rotate_image(np.array(cancerTrImages[0]), np.array(cancerTrImages[1]), 180, 25758)\n",
    "train270 = rotate_image(np.array(cancerTrImages[0]), np.array(cancerTrImages[1]), 270, 25757)\n",
    "\n",
    "print(\"Number of cancer images in training set\", str((len(train180[0]) + len(train90[0])) + len(train270[0]) + len(cancerTrImages[0])))\n",
    "print(\"Number of benign images in training set\", str(len(nonCancerTrImages[0])))\n"
   ]
  },
  {
   "cell_type": "code",
   "execution_count": 55,
   "metadata": {},
   "outputs": [],
   "source": [
    "#combining training data with rotated data\n",
    "x_train = np.array(x_train)\n",
    "train90[0] = np.array(train90[0])\n",
    "train180[0] = np.array(train180[0])\n",
    "y_train = np.array(y_train)\n",
    "train90[1] = np.array(train90[1])\n",
    "train180[1] = np.array(train180[1])\n",
    "\n",
    "training_x = np.concatenate((x_train, train90[0], train180[0],train270[0]), axis=0)\n",
    "training_y = np.concatenate((y_train, train90[1], train180[1],train270[1]))\n",
    "\n",
    "\n",
    "datagen = ImageDataGenerator(featurewise_center=True, featurewise_std_normalization=True)\n",
    "datagen.fit(training_x)\n",
    "\n",
    "# Because of computing power problems we subset to 20000 images \n",
    "# (10000 cancerous and 10000 noncancerous) in training\n",
    "train_x_param = training_x[0:10000] + training_x[120000:130000]\n",
    "train_y_param = training_y[0:10000]+ training_y[120000:130000]\n",
    "\n",
    "train_param_iterator = datagen.flow(np.array(train_x_param), np.array(train_y_param))\n",
    "\n",
    "val_iterator = datagen.flow(np.array(x_val1), np.array(y_val1))\n",
    "\n"
   ]
  },
  {
   "cell_type": "code",
   "execution_count": 42,
   "metadata": {},
   "outputs": [],
   "source": [
    "# from keras.utils.np_utils import to_categorical \n",
    "# #### testing \n",
    "# valxTrain = np.concatenate((training_x[0:700],training_x[200000:200300]), axis=0)\n",
    "# valyTrain = np.concatenate((training_y[0:700],training_y[200000:200300]))\n",
    "\n",
    "# train_param_iterator = datagen.flow(np.array(valxTrain), np.array(valyTrain))\n",
    "\n",
    "# valxTest = x_val1[0:120] +  x_val1[21466:21550]\n",
    "# valyTest = y_val1[0:120] +  y_val1[21466:21550]\n",
    "# testx_iterator = datagen.flow(np.array(valxTest),batch_size=32, shuffle=False)\n",
    "# val_iterator = datagen.flow(np.array(x_val1[0:120]+  x_val1[21466:21550]), np.array(y_val1[0:120]+  y_val1[21466:21550]))\n",
    "\n",
    "# # val_iterator2 = datagen.flow(np.array(x_val1[0:120]+  x_val1[21466:21550]),to_categorical(np.array(valyTest), num_classes=2))\n",
    "\n"
   ]
  },
  {
   "cell_type": "code",
   "execution_count": null,
   "metadata": {},
   "outputs": [
    {
     "name": "stdout",
     "output_type": "stream",
     "text": [
      "FITTING\n",
      "Epoch 1/15\n",
      "313/313 [==============================] - 469s 1s/step - loss: 0.0052 - accuracy: 1.0000 - val_loss: 2479.1990 - val_accuracy: 0.2799\n",
      "Epoch 2/15\n",
      "313/313 [==============================] - 895s 3s/step - loss: 0.0000e+00 - accuracy: 1.0000 - val_loss: 2479.1985 - val_accuracy: 0.2799\n",
      "Epoch 3/15\n",
      "313/313 [==============================] - 814s 3s/step - loss: 0.0000e+00 - accuracy: 1.0000 - val_loss: 2479.1975 - val_accuracy: 0.2799\n",
      "Epoch 4/15\n",
      "176/313 [===============>..............] - ETA: 1:58 - loss: 0.0000e+00 - accuracy: 1.0000"
     ]
    }
   ],
   "source": [
    "### #Learning rates above .01 are not useful\n",
    "import keras.backend as K\n",
    "import tensorflow_addons as tfa\n",
    "from keras.utils.np_utils import to_categorical  \n",
    "\n",
    "learning_rates = [.0001, .001, .01]\n",
    "batchsizes = [32, 256]\n",
    "mccs = []\n",
    "\n",
    "for lr in learning_rates:\n",
    "    for bs in batchsizes: \n",
    "        model = VGG16(weights=None, include_top=True, input_shape= (50, 50,3), classes=2, classifier_activation='softmax')\n",
    "        adam = Adam(learning_rate=lr)\n",
    "        model.compile(optimizer= adam, loss=tf.keras.losses.sparse_categorical_crossentropy, metrics=['accuracy'])\n",
    "\n",
    "        print(\"FITTING\")\n",
    "        history = model.fit(train_param_iterator, epochs=15, batch_size = bs, validation_data=val_iterator)\n",
    "    \n",
    "        y_pred = model.predict(testx_iterator)\n",
    "        print(y_pred)\n",
    "        y_true = to_categorical(np.array(y_val1), num_classes=2)\n",
    "        print(y_true)\n",
    "        metric = tfa.metrics.MatthewsCorrelationCoefficient(num_classes=2)\n",
    "        metric.update_state(y_true, y_pred)\n",
    "        result = metric.result()\n",
    "        result.numpy()\n",
    "        mccs.append((lr, bs, result.numpy()))\n",
    "\n",
    "\n",
    "# The model outputs a value between 0 and 1, which can be thought of as a probability of being a cancer or not\n",
    "# model.predict to find the pseudo probability which is a measure of confidence\n",
    "# we can output the score and the prediction\n",
    "# activation map to find the feature\n",
    "\n",
    "\n",
    "# LR = .0001 achieves the highest validation accuracy\n",
    "# Increase number of epochs to see if more epochs further increases val error\n",
    "# LR = .0001\n",
    "# model = VGG16(weights=None, include_top=True, input_shape= (50, 50,3), classes=2, classifier_activation='softmax')\n",
    "# adam = Adam(learning_rate=LR)\n",
    "# model.compile(optimizer= adam, loss=tf.keras.losses.sparse_categorical_crossentropy, metrics=['accuracy', tfa.metrics.MatthewsCorrelationCoefficient(num_classes=2)])\n",
    "\n",
    "# print(\"FITTING\")j\n",
    "# history = model.fit(train_iterator, epochs=15, validation_data=val_iterator)\n",
    "# plt.plot(history.history['accuracy'], label='accuracy')\n",
    "# plt.plot(history.history['val_accuracy'], label = 'val_accuracy')\n",
    "# plt.xlabel('Epoch')\n",
    "# plt.ylabel('Accuracy')\n",
    "# plt.ylim([0.5, 1])\n",
    "# plt.legend(loc='lower right')\n",
    "# plt.title(\"Learning Rate: \" + str(LR))\n",
    "# plt.show()\n",
    "\n",
    "# model.save(\"FullTrain2023\")\n",
    "\n"
   ]
  },
  {
   "cell_type": "code",
   "execution_count": null,
   "metadata": {
    "collapsed": true
   },
   "outputs": [],
   "source": [
    "# model = tf.keras.models.load_model('April1AB20k2023')"
   ]
  },
  {
   "cell_type": "code",
   "execution_count": null,
   "metadata": {
    "collapsed": true
   },
   "outputs": [],
   "source": [
    "model.summary()"
   ]
  },
  {
   "cell_type": "code",
   "execution_count": null,
   "metadata": {},
   "outputs": [],
   "source": [
    "test_iterator = datagen.flow(np.array(x_test), np.array(y_test))\n",
    "\n",
    "model.evaluate(test_iterator)"
   ]
  },
  {
   "cell_type": "code",
   "execution_count": null,
   "metadata": {
    "collapsed": true
   },
   "outputs": [],
   "source": [
    "testx_iterator = datagen.flow(np.array(x_test),batch_size=32, shuffle=False)\n",
    "y_prediction = model.predict(testx_iterator)\n"
   ]
  },
  {
   "cell_type": "code",
   "execution_count": null,
   "metadata": {},
   "outputs": [],
   "source": [
    "prediction = np.zeros(y_prediction.shape[0])\n",
    "mask = (y_prediction[:,0]<0.5)\n",
    "prediction[mask] = 1\n",
    "print(prediction)\n",
    "\n",
    "equal = np.zeros(y_prediction.shape[0])\n",
    "equal[prediction == np.array(y_test)] = 1\n",
    "\n",
    "accuracy = np.sum(equal)/y_prediction.shape[0]\n",
    "accuracy"
   ]
  },
  {
   "cell_type": "code",
   "execution_count": null,
   "metadata": {},
   "outputs": [],
   "source": [
    "y_test[np.array(y_test) == 0]"
   ]
  },
  {
   "cell_type": "code",
   "execution_count": null,
   "metadata": {},
   "outputs": [],
   "source": [
    "from sklearn.metrics import confusion_matrix, ConfusionMatrixDisplay\n",
    "result = confusion_matrix(y_test, prediction , normalize='pred')\n",
    "disp = ConfusionMatrixDisplay(confusion_matrix=result )\n",
    "\n",
    "disp.plot()\n"
   ]
  },
  {
   "cell_type": "code",
   "execution_count": null,
   "metadata": {
    "collapsed": true
   },
   "outputs": [],
   "source": [
    "# cancer evaluation\n",
    "cancer_iterator = datagen.flow(np.array(np.array(x_test)[np.array(y_test) == 1]), np.array(y_test)[np.array(y_test) == 1])\n",
    "\n",
    "model.evaluate(cancer_iterator)"
   ]
  },
  {
   "cell_type": "code",
   "execution_count": null,
   "metadata": {
    "collapsed": true
   },
   "outputs": [],
   "source": [
    "# benign evaluation\n",
    "\n",
    "benign_iterator = datagen.flow(np.array(np.array(x_test)[np.array(y_test) == 0]), np.array(y_test)[np.array(y_test) == 0])\n",
    "\n",
    "model.evaluate(benign_iterator)\n",
    "\n",
    "\n"
   ]
  },
  {
   "cell_type": "code",
   "execution_count": null,
   "metadata": {},
   "outputs": [],
   "source": [
    "\n",
    "\n",
    "## the penalty of missing a cancer is 2 million dollars * .05 100000\n",
    "## the penalty of diagnosing a cancer when it isn't there is lets say 20000\n",
    "import keras\n",
    "def get_img_array(img_path, size):\n",
    "    # `img` is a PIL image of size 299x299\n",
    "    img = load_img(img_path, target_size=size)\n",
    "    # `array` is a float32 Numpy array of shape (299, 299, 3)\n",
    "    array = tf.keras.utils.img_to_array(img)\n",
    "    # We add a dimension to transform our array into a \"batch\"\n",
    "    # of size (1, 299, 299, 3)\n",
    "    array = np.expand_dims(array, axis=0)\n",
    "    return array\n",
    "\n",
    "def make_gradcam_heatmap(img_array, model, last_conv_layer_name, pred_index=None):\n",
    "    # First, we create a model that maps the input image to the activations\n",
    "    # of the last conv layer as well as the output predictions\n",
    "    grad_model = tf.keras.models.Model(\n",
    "        [model.inputs], [model.get_layer(last_conv_layer_name).output, model.output]\n",
    "    )\n",
    "\n",
    "    # Then, we compute the gradient of the top predicted class for our input image\n",
    "    # with respect to the activations of the last conv layer\n",
    "    with tf.GradientTape() as tape:\n",
    "        last_conv_layer_output, preds = grad_model(img_array)\n",
    "        if pred_index is None:\n",
    "            pred_index = tf.argmax(preds[0])\n",
    "        class_channel = preds[:, pred_index]\n",
    "\n",
    "    # This is the gradient of the output neuron (top predicted or chosen)\n",
    "    # with regard to the output feature map of the last conv layer\n",
    "    grads = tape.gradient(class_channel, last_conv_layer_output)\n",
    "\n",
    "    # This is a vector where each entry is the mean intensity of the gradient\n",
    "    # over a specific feature map channel\n",
    "    pooled_grads = tf.reduce_mean(grads, axis=(0, 1, 2))\n",
    "\n",
    "    # We multiply each channel in the feature map array\n",
    "    # by \"how important this channel is\" with regard to the top predicted class\n",
    "    # then sum all the channels to obtain the heatmap class activation\n",
    "    last_conv_layer_output = last_conv_layer_output[0]\n",
    "    heatmap = last_conv_layer_output @ pooled_grads[..., tf.newaxis]\n",
    "    heatmap = tf.squeeze(heatmap)\n",
    "\n",
    "    # For visualization purpose, we will also normalize the heatmap between 0 & 1\n",
    "    heatmap = tf.maximum(heatmap, 0) / tf.math.reduce_max(heatmap)\n",
    "    return heatmap.numpy()\n",
    "plt.figure()\n",
    "img_size = (50, 50)\n",
    "path = \"imagedata/10253/0/10253_idx5_x1001_y1001_class0.png\"\n",
    "heatmap = make_gradcam_heatmap(datagen.flow(get_img_array(path, img_size))[0], model, \"block3_conv3\")\n",
    "plt.matshow(heatmap)\n",
    "plt.show()"
   ]
  },
  {
   "cell_type": "code",
   "execution_count": null,
   "metadata": {},
   "outputs": [],
   "source": [
    "from IPython.display import Image, display\n",
    "import matplotlib.pyplot as plt\n",
    "import matplotlib.cm as cm\n",
    "def save_and_display_gradcam(img_path, heatmap, cam_path=\"cam.jpg\", alpha=0.4):\n",
    "    # Load the original image\n",
    "    img = load_img(img_path)\n",
    "    img = tf.keras.utils.img_to_array(img)\n",
    "\n",
    "    # Rescale heatmap to a range 0-255\n",
    "    heatmap = np.uint8(255 * heatmap)\n",
    "\n",
    "    # Use jet colormap to colorize heatmap\n",
    "    jet = cm.get_cmap(\"jet\")\n",
    "\n",
    "    # Use RGB values of the colormap\n",
    "    jet_colors = jet(np.arange(256))[:, :3]\n",
    "    jet_heatmap = jet_colors[heatmap]\n",
    "\n",
    "    # Create an image with RGB colorized heatmap\n",
    "    jet_heatmap = tf.keras.utils.array_to_img(jet_heatmap)\n",
    "    jet_heatmap = jet_heatmap.resize((img.shape[1], img.shape[0]))\n",
    "    jet_heatmap = keras.preprocessing.image.img_to_array(jet_heatmap)\n",
    "\n",
    "    # Superimpose the heatmap on original image\n",
    "    superimposed_img = jet_heatmap * alpha + img\n",
    "    superimposed_img = keras.preprocessing.image.array_to_img(superimposed_img)\n",
    "\n",
    "    # Save the superimposed image\n",
    "    superimposed_img.save(cam_path)\n",
    "\n",
    "    # Display Grad CAM\n",
    "    display(Image(cam_path))\n",
    "\n",
    "\n",
    "save_and_display_gradcam(path, heatmap)"
   ]
  },
  {
   "cell_type": "code",
   "execution_count": null,
   "metadata": {},
   "outputs": [],
   "source": [
    "from sklearn.metrics import roc_curve\n",
    "import matplotlib.pyplot as plt\n",
    "\n",
    "y_pred_keras = model.predict(np.array(x_test)).ravel()\n"
   ]
  },
  {
   "cell_type": "code",
   "execution_count": null,
   "metadata": {
    "collapsed": true
   },
   "outputs": [],
   "source": [
    "from sklearn.metrics import auc\n",
    "y_pred0 = [y_prediction[i][1] for i in range(0, y_prediction.shape[0])]\n",
    "fpr_keras, tpr_keras, thresholds_keras = roc_curve(np.array(y_test), y_pred0)\n",
    "\n",
    "\n",
    "auc_keras = auc(fpr_keras, tpr_keras)\n",
    "plt.figure()\n",
    "\n",
    "plt.xlim(0, 1)\n",
    "plt.ylim(0, 1)\n",
    "plt.plot([0, 1], [0, 1], 'k--')\n",
    "plt.plot(fpr_keras, tpr_keras, label='Keras (area = {:.3f})'.format(auc_keras))\n",
    "plt.xlabel('False positive rate')\n",
    "plt.ylabel('True positive rate')\n",
    "plt.title('ROC curve')\n",
    "plt.legend(loc='best')\n",
    "plt.savefig(\"ROC.png\")"
   ]
  },
  {
   "cell_type": "code",
   "execution_count": null,
   "metadata": {},
   "outputs": [],
   "source": [
    "np.array(x_test).shape\n"
   ]
  },
  {
   "cell_type": "code",
   "execution_count": null,
   "metadata": {},
   "outputs": [],
   "source": [
    "model.summary()"
   ]
  },
  {
   "cell_type": "code",
   "execution_count": null,
   "metadata": {
    "collapsed": true
   },
   "outputs": [],
   "source": [
    "model.add_metric()"
   ]
  },
  {
   "cell_type": "code",
   "execution_count": null,
   "metadata": {},
   "outputs": [],
   "source": [
    "!pip install tensorflow-addons"
   ]
  },
  {
   "cell_type": "code",
   "execution_count": null,
   "metadata": {
    "collapsed": true
   },
   "outputs": [],
   "source": []
  }
 ],
 "metadata": {
  "kernelspec": {
   "display_name": "Python 3 (ipykernel)",
   "language": "python",
   "name": "python3"
  },
  "language_info": {
   "codemirror_mode": {
    "name": "ipython",
    "version": 3
   },
   "file_extension": ".py",
   "mimetype": "text/x-python",
   "name": "python",
   "nbconvert_exporter": "python",
   "pygments_lexer": "ipython3",
   "version": "3.10.9"
  }
 },
 "nbformat": 4,
 "nbformat_minor": 4
}
