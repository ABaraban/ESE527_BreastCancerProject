{
 "cells": [
  {
   "cell_type": "code",
   "execution_count": 1,
   "id": "f2511b4f",
   "metadata": {},
   "outputs": [
    {
     "name": "stderr",
     "output_type": "stream",
     "text": [
      "2023-03-19 11:59:30.481611: I tensorflow/core/platform/cpu_feature_guard.cc:193] This TensorFlow binary is optimized with oneAPI Deep Neural Network Library (oneDNN) to use the following CPU instructions in performance-critical operations:  SSE4.1 SSE4.2\n",
      "To enable them in other operations, rebuild TensorFlow with the appropriate compiler flags.\n"
     ]
    }
   ],
   "source": [
    "# Clean Script\n",
    "from glob import glob\n",
    "import tensorflow as tf\n",
    "from tensorflow.keras.utils import load_img\n",
    "\n",
    "# Collect paths to images based on label\n",
    "nonCancerPaths = glob('imagedata/*/0/*.png')\n",
    "cancerousPaths = glob('imagedata/*/1/*.png')\n",
    "\n",
    "# Turn filepaths into image arrays to train a model\n",
    "def paths_to_image(paths, label):\n",
    "    images = []\n",
    "    labels = []\n",
    "    for path in paths:\n",
    "        image = load_img(path)\n",
    "        image = image.resize([50, 50])\n",
    "        imgArray = tf.keras.utils.img_to_array(image)\n",
    "        images.append(imgArray)\n",
    "        labels.append(label)\n",
    "    return (images, labels)\n"
   ]
  },
  {
   "cell_type": "code",
   "execution_count": 2,
   "id": "afd09b2a",
   "metadata": {},
   "outputs": [],
   "source": [
    "from PIL import Image\n",
    "import cv2\n",
    "def rotate_image(paths, label, rotation):\n",
    "    images = []\n",
    "    labels = []\n",
    "    for path in paths:\n",
    "        image = load_img(path)\n",
    "        im = Image.open(path)\n",
    "        image = image.resize([50, 50])\n",
    "        rotateimg = im.rotate(rotation)\n",
    "        imgArray = tf.keras.utils.img_to_array(rotateimg)\n",
    "        images.append(imgArray)\n",
    "        labels.append(label)\n",
    "    return (images, labels)\n",
    "\n"
   ]
  },
  {
   "cell_type": "code",
   "execution_count": 3,
   "id": "1cb3de9f",
   "metadata": {},
   "outputs": [],
   "source": [
    "import random \n",
    "\n",
    "randomnCPaths = random.choices(nonCancerPaths, k=37000)\n",
    "\n",
    "nonCancerImages = paths_to_image(nonCancerPaths, 0)\n",
    "noncancerImages90 = rotate_image(randomnCPaths, 1,90)\n",
    "\n",
    "cancerImages = paths_to_image(cancerousPaths, 1)\n",
    "cancerImages90 = rotate_image(cancerousPaths, 1,90)\n",
    "cancerImages180 = rotate_image(cancerousPaths, 1,180)"
   ]
  },
  {
   "cell_type": "code",
   "execution_count": null,
   "id": "365f1d53",
   "metadata": {},
   "outputs": [],
   "source": [
    "print(np.array(nonCancerImages).shape"
   ]
  },
  {
   "cell_type": "code",
   "execution_count": null,
   "id": "ea1df182",
   "metadata": {},
   "outputs": [],
   "source": [
    "from PIL import Image\n",
    "Image.open('imagedata/10257/1/10257_idx5_x1801_y1551_class1.png')"
   ]
  },
  {
   "cell_type": "code",
   "execution_count": null,
   "id": "925ce615",
   "metadata": {},
   "outputs": [],
   "source": [
    "from PIL import Image\n",
    "Image.open('imagedata/9036/0/9036_idx5_x2351_y1151_class0.png')"
   ]
  },
  {
   "cell_type": "code",
   "execution_count": null,
   "id": "ecfb3e4c",
   "metadata": {},
   "outputs": [],
   "source": [
    "img = load_img('data/train/cats/cat.0.jpg')  # this is a PIL image\n",
    "x = img_to_array(img)  # this is a Numpy array with shape (3, 150, 150)\n",
    "x = x.reshape((1,) + x.shape)  # this is a Numpy array with shape (1, 3, 150, 150)\n",
    "\n",
    "# the .flow() command below generates batches of randomly transformed images\n",
    "# and saves the results to the `preview/` directory\n",
    "i = 0\n",
    "for batch in datagen.flow(x, batch_size=1,\n",
    "                          save_to_dir='preview', save_prefix='cat', save_format='jpeg'):\n",
    "    i += 1\n",
    "    if i > 20:\n",
    "        break  "
   ]
  },
  {
   "cell_type": "code",
   "execution_count": null,
   "id": "dae9db52",
   "metadata": {},
   "outputs": [],
   "source": [
    "# Train Test Split train = (images, labels)\n",
    "from sklearn.model_selection import train_test_split\n",
    "allImages = nonCancerImages[0] + cancerImages[0] + noncancerImages90[0] + cancerImages90[0] + cancerImages180[0]\n",
    "allLabels = nonCancerImages[1] + cancerImages[1]+ noncancerImages90[1] + cancerImages90[1] + cancerImages180[1]\n",
    "\n",
    "x_train, x_test, y_train, y_test = train_test_split(allImages, allLabels, test_size=.5, stratify= allLabels, random_state = 10)\n"
   ]
  },
  {
   "cell_type": "code",
   "execution_count": null,
   "id": "606848e6",
   "metadata": {},
   "outputs": [],
   "source": [
    "# define the model according to keras tutorial \n",
    "# https://www.tensorflow.org/tutorials/images/cnn#create_the_convolutional_base\n",
    "from tensorflow.keras import datasets, layers, models\n",
    "import matplotlib.pyplot as plt\n",
    "import numpy as np\n",
    "\n",
    "\n",
    "print(np.array(x_train).shape)\n",
    "print(np.array(y_train).shape)\n",
    "\n",
    "#Add data augmentation to increase the robustness of the model\n",
    "data_augmentation = tf.keras.Sequential([\n",
    "  layers.RandomFlip(\"horizontal_and_vertical\"),\n",
    "  layers.RandomRotation(0.2),\n",
    "])\n",
    "\n",
    "\n",
    "model = models.Sequential()\n",
    "model.add(data_augmentation)\n",
    "model.add(layers.Conv2D(32, (3, 3), activation='relu', input_shape=(50, 50, 3)))\n",
    "model.add(layers.MaxPooling2D((2, 2)))\n",
    "model.add(layers.Conv2D(64, (3, 3), activation='relu'))\n",
    "model.add(layers.MaxPooling2D((2, 2)))\n",
    "model.add(layers.Conv2D(64, (3, 3), activation='relu'))\n",
    "\n",
    "model.add(layers.Flatten())\n",
    "model.add(layers.Dense(64, activation='relu'))\n",
    "model.add(layers.Dense(10))\n",
    "\n",
    "model.compile(optimizer='adam',\n",
    "              loss=tf.keras.losses.SparseCategoricalCrossentropy(from_logits=True),\n",
    "              metrics=['accuracy'])\n",
    "\n",
    "history = model.fit(np.array(x_train), np.array(y_train), epochs=10, validation_data=(np.array(x_test), np.array(y_test)))\n",
    "\n",
    "plt.plot(history.history['accuracy'], label='accuracy')\n",
    "plt.plot(history.history['val_accuracy'], label = 'val_accuracy')\n",
    "plt.xlabel('Epoch')\n",
    "plt.ylabel('Accuracy')\n",
    "plt.ylim([0.5, 1])\n",
    "plt.legend(loc='lower right')"
   ]
  },
  {
   "cell_type": "code",
   "execution_count": null,
   "id": "724c691c",
   "metadata": {},
   "outputs": [],
   "source": [
    "plt.plot(history.history['accuracy'], label='accuracy')\n",
    "plt.plot(history.history['val_accuracy'], label = 'val_accuracy')\n",
    "plt.xlabel('Epoch')\n",
    "plt.ylabel('Accuracy')\n",
    "plt.ylim([0.5, 1])\n",
    "plt.legend(loc='lower right')\n",
    "\n",
    "test_loss, test_acc = model.evaluate(np.array(x_test),  np.array(y_test), verbose=2)"
   ]
  }
 ],
 "metadata": {
  "kernelspec": {
   "display_name": "Python 3 (ipykernel)",
   "language": "python",
   "name": "python3"
  },
  "language_info": {
   "codemirror_mode": {
    "name": "ipython",
    "version": 3
   },
   "file_extension": ".py",
   "mimetype": "text/x-python",
   "name": "python",
   "nbconvert_exporter": "python",
   "pygments_lexer": "ipython3",
   "version": "3.10.9"
  }
 },
 "nbformat": 4,
 "nbformat_minor": 5
}
